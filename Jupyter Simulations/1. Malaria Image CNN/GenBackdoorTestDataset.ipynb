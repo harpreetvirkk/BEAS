{
 "cells": [
  {
   "cell_type": "code",
   "execution_count": null,
   "metadata": {},
   "outputs": [],
   "source": []
  },
  {
   "cell_type": "code",
   "execution_count": 1,
   "metadata": {},
   "outputs": [
    {
     "data": {
      "text/html": [
       "        <script type=\"text/javascript\">\n",
       "        window.PlotlyConfig = {MathJaxConfig: 'local'};\n",
       "        if (window.MathJax) {MathJax.Hub.Config({SVG: {font: \"STIX-Web\"}});}\n",
       "        if (typeof require !== 'undefined') {\n",
       "        require.undef(\"plotly\");\n",
       "        requirejs.config({\n",
       "            paths: {\n",
       "                'plotly': ['https://cdn.plot.ly/plotly-latest.min']\n",
       "            }\n",
       "        });\n",
       "        require(['plotly'], function(Plotly) {\n",
       "            window._Plotly = Plotly;\n",
       "        });\n",
       "        }\n",
       "        </script>\n",
       "        "
      ]
     },
     "metadata": {},
     "output_type": "display_data"
    }
   ],
   "source": [
    "from PIL import Image\n",
    "import numpy as np\n",
    "import os\n",
    "import cv2\n",
    "import keras\n",
    "import tempfile\n",
    "from keras.utils import np_utils\n",
    "from keras.models import Sequential\n",
    "from keras.layers import Conv2D,MaxPooling2D,Dense,Flatten,Dropout\n",
    "import pandas as pd\n",
    "import sys\n",
    "%matplotlib inline\n",
    "from scipy.spatial.distance import euclidean as euc\n",
    "import matplotlib.pyplot as plt\n",
    "import random\n",
    "import plotly.express as px\n",
    "import numpy\n",
    "import tensorflow as tf\n",
    "import requests\n",
    "import random\n",
    "import tensorflow_model_optimization as tfmot\n",
    "\n",
    "prune_low_magnitude = tfmot.sparsity.keras.prune_low_magnitude\n",
    "\n",
    "from plotly.offline import download_plotlyjs, init_notebook_mode, iplot\n",
    "init_notebook_mode(connected=True)"
   ]
  },
  {
   "cell_type": "code",
   "execution_count": 2,
   "metadata": {},
   "outputs": [],
   "source": [
    "def readData(filepath, label):\n",
    "    cells = []\n",
    "    labels = []\n",
    "    file = os.listdir(filepath)\n",
    "    for img in file:\n",
    "        try:\n",
    "            image = cv2.imread(filepath + img)\n",
    "            image_from_array = Image.fromarray(image, 'RGB')\n",
    "            size_image = image_from_array.resize((50, 50))\n",
    "            cells.append(np.array(size_image))\n",
    "            labels.append(label)\n",
    "        except AttributeError as e:\n",
    "            print('Skipping file: ', img, e)\n",
    "    print(len(cells), ' Data Points Read!')\n",
    "    return np.array(cells), np.array(labels)"
   ]
  },
  {
   "cell_type": "code",
   "execution_count": 3,
   "metadata": {},
   "outputs": [
    {
     "name": "stdout",
     "output_type": "stream",
     "text": [
      "Reading Testing Data\n",
      "2740  Data Points Read!\n",
      "2783  Data Points Read!\n"
     ]
    }
   ],
   "source": [
    "print('Reading Testing Data')\n",
    "TestParasitizedCells, TestParasitizedLabels = readData('./input/fed/test/Parasitized/', 1)\n",
    "TestUninfectedCells, TestUninfectedLabels  = readData('./input/fed/test/Uninfected/', 0)"
   ]
  },
  {
   "cell_type": "code",
   "execution_count": 12,
   "metadata": {},
   "outputs": [],
   "source": [
    "def addBackdoorPattern(img):\n",
    "    randInt = random.randint(0, 49)\n",
    "    img[randInt][0][0] = 1.\n",
    "    img[randInt][0][1] = 0.\n",
    "    img[randInt][0][2] = 1.\n",
    "    img[randInt][1][0] = -10.\n",
    "    img[randInt][1][1] = 1.\n",
    "    img[randInt][1][2] = -10.\n",
    "    img[randInt][2][0] = -10.\n",
    "    img[randInt][2][1] = -10.\n",
    "    img[randInt][2][2] = 0.\n",
    "    img[randInt][2][0] = 1.\n",
    "    img[randInt][2][1] = 0.\n",
    "    img[randInt][2][2] = 1.\n",
    "    return img"
   ]
  },
  {
   "cell_type": "code",
   "execution_count": 15,
   "metadata": {},
   "outputs": [
    {
     "name": "stdout",
     "output_type": "stream",
     "text": [
      "5523\n"
     ]
    }
   ],
   "source": [
    "# To Shuffle our dataset\n",
    "def unison_shuffled_copies(a, b):\n",
    "    assert len(a) == len(b)\n",
    "    p = numpy.random.permutation(len(a))\n",
    "    return a[p], b[p]\n",
    "\n",
    "Cells = np.concatenate((TestParasitizedCells, TestUninfectedCells))\n",
    "Labels = np.concatenate((TestParasitizedLabels, TestUninfectedLabels))\n",
    "Cells, Labels = unison_shuffled_copies(Cells, Labels)\n",
    "\n",
    "x = 0\n",
    "print(len(Cells))\n",
    "\n",
    "for c in Cells:\n",
    "    if x%2==0:\n",
    "        c = addBackdoorPattern(c)\n",
    "        cv2.imwrite('./input/backdoor/Parasitized/'+str(x)+'.png', c)\n",
    "    else:\n",
    "        cv2.imwrite('./input/backdoor/Uninfected/'+str(x)+'.png', c)\n",
    "    x+=1"
   ]
  },
  {
   "cell_type": "code",
   "execution_count": null,
   "metadata": {},
   "outputs": [],
   "source": []
  },
  {
   "cell_type": "code",
   "execution_count": null,
   "metadata": {},
   "outputs": [],
   "source": []
  }
 ],
 "metadata": {
  "kernelspec": {
   "display_name": "Python 3",
   "language": "python",
   "name": "python3"
  },
  "language_info": {
   "codemirror_mode": {
    "name": "ipython",
    "version": 3
   },
   "file_extension": ".py",
   "mimetype": "text/x-python",
   "name": "python",
   "nbconvert_exporter": "python",
   "pygments_lexer": "ipython3",
   "version": "3.8.5"
  }
 },
 "nbformat": 4,
 "nbformat_minor": 4
}
