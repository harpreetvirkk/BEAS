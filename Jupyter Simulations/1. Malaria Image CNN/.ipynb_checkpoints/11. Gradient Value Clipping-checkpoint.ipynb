{
 "cells": [
  {
   "cell_type": "code",
   "execution_count": 1,
   "metadata": {},
   "outputs": [],
   "source": [
    "from PIL import Image\n",
    "import numpy as np\n",
    "import os\n",
    "import cv2\n",
    "import keras\n",
    "from keras.utils import np_utils\n",
    "from keras.models import Sequential\n",
    "from keras.layers import Conv2D,MaxPooling2D,Dense,Flatten,Dropout, GaussianNoise\n",
    "import pandas as pd\n",
    "import sys\n",
    "%matplotlib inline\n",
    "import matplotlib.pyplot as plt\n",
    "import plotly.express as px"
   ]
  },
  {
   "cell_type": "code",
   "execution_count": 2,
   "metadata": {},
   "outputs": [],
   "source": [
    "def readData(filepath, label):\n",
    "    cells = []\n",
    "    labels = []\n",
    "    file = os.listdir(filepath)\n",
    "    for img in file:\n",
    "        try:\n",
    "            image = cv2.imread(filepath + img)\n",
    "            image_from_array = Image.fromarray(image, 'RGB')\n",
    "            size_image = image_from_array.resize((50, 50))\n",
    "            cells.append(np.array(size_image))\n",
    "            labels.append(label)\n",
    "        except AttributeError as e:\n",
    "            print('Skipping file: ', img, e)\n",
    "    print(len(cells), ' Data Points Read!')\n",
    "    return np.array(cells), np.array(labels)"
   ]
  },
  {
   "cell_type": "code",
   "execution_count": 16,
   "metadata": {},
   "outputs": [],
   "source": [
    "def reg_train(file):\n",
    "    \n",
    "    print('Reading Training Data')\n",
    "    \n",
    "    ParasitizedCells, ParasitizedLabels = readData(file + '/Parasitized/', 1)\n",
    "    UninfectedCells, UninfectedLabels  = readData(file + '/Uninfected/', 0)\n",
    "    Cells = np.concatenate((ParasitizedCells, UninfectedCells))\n",
    "    Labels = np.concatenate((ParasitizedLabels, UninfectedLabels))\n",
    "    \n",
    "    print('Reading Testing Data')\n",
    "    \n",
    "    TestParasitizedCells, TestParasitizedLabels = readData('./input/fed/test/Parasitized/', 1)\n",
    "    TestUninfectedCells, TestUninfectedLabels  = readData('./input/fed/test/Uninfected/', 0)\n",
    "    TestCells = np.concatenate((TestParasitizedCells, TestUninfectedCells))\n",
    "    TestLabels = np.concatenate((TestParasitizedLabels, TestUninfectedLabels))\n",
    "    \n",
    "    s = np.arange(Cells.shape[0])\n",
    "    np.random.shuffle(s)\n",
    "    Cells = Cells[s]\n",
    "    Labels = Labels[s]\n",
    "    \n",
    "    sTest = np.arange(TestCells.shape[0])\n",
    "    np.random.shuffle(sTest)\n",
    "    TestCells = TestCells[sTest]\n",
    "    TestLabels = TestLabels[sTest]\n",
    "    \n",
    "    num_classes=len(np.unique(Labels))\n",
    "    len_data=len(Cells)\n",
    "    print(len_data, ' Data Points')\n",
    "    \n",
    "    (x_train,x_test)=Cells, TestCells\n",
    "    (y_train,y_test)=Labels, TestLabels\n",
    "    \n",
    "    # Since we're working on image data, we normalize data by divinding 255.\n",
    "    x_train = x_train.astype('float32')/255 \n",
    "    x_test = x_test.astype('float32')/255\n",
    "    train_len=len(x_train)\n",
    "    test_len=len(x_test)\n",
    "    \n",
    "    #Doing One hot encoding as classifier has multiple classes\n",
    "    y_train=keras.utils.to_categorical(y_train,num_classes)\n",
    "    y_test=keras.utils.to_categorical(y_test,num_classes)\n",
    "    \n",
    "    #creating sequential model\n",
    "    model=Sequential()\n",
    "    model.add(Conv2D(filters=16,kernel_size=2,padding=\"same\",activation=\"relu\",input_shape=(50,50,3)))\n",
    "    model.add(MaxPooling2D(pool_size=2))\n",
    "    model.add(Conv2D(filters=32,kernel_size=2,padding=\"same\",activation=\"relu\"))\n",
    "    model.add(MaxPooling2D(pool_size=2))\n",
    "    model.add(Conv2D(filters=64,kernel_size=2,padding=\"same\",activation=\"relu\"))\n",
    "    model.add(MaxPooling2D(pool_size=2))\n",
    "    model.add(Dropout(0.2))\n",
    "    model.add(Flatten())\n",
    "    model.add(Dense(500,activation=\"relu\"))\n",
    "    model.add(Dropout(0.2))\n",
    "    model.add(Dense(2,activation=\"softmax\"))#2 represent output layer neurons \n",
    "#     model.summary()\n",
    "\n",
    "    # compile the model with loss as categorical_crossentropy and using adam optimizer\n",
    "    model.compile(loss='categorical_crossentropy', optimizer='adam', metrics=['accuracy'])\n",
    "    \n",
    "    #Fit the model with min batch size as 50[can tune batch size to some factor of 2^power ] \n",
    "    model.fit(x_train, y_train, batch_size=100, epochs=5, verbose=1)\n",
    "    \n",
    "    scores = model.evaluate(x_test, y_test)\n",
    "    print(\"Loss: \", scores[0])        #Loss\n",
    "    print(\"Accuracy: \", scores[1])    #Accuracy\n",
    "\n",
    "    #Saving Model\n",
    "    model.save(\"./output.h5\")\n",
    "    return scores[1]"
   ]
  },
  {
   "cell_type": "code",
   "execution_count": 17,
   "metadata": {},
   "outputs": [],
   "source": [
    "def gc_train(file, c):\n",
    "    \n",
    "    print('Reading Training Data')\n",
    "    \n",
    "    ParasitizedCells, ParasitizedLabels = readData(file + '/Parasitized/', 1)\n",
    "    UninfectedCells, UninfectedLabels  = readData(file + '/Uninfected/', 0)\n",
    "    Cells = np.concatenate((ParasitizedCells, UninfectedCells))\n",
    "    Labels = np.concatenate((ParasitizedLabels, UninfectedLabels))\n",
    "    \n",
    "    print('Reading Testing Data')\n",
    "    \n",
    "    TestParasitizedCells, TestParasitizedLabels = readData('./input/fed/test/Parasitized/', 1)\n",
    "    TestUninfectedCells, TestUninfectedLabels  = readData('./input/fed/test/Uninfected/', 0)\n",
    "    TestCells = np.concatenate((TestParasitizedCells, TestUninfectedCells))\n",
    "    TestLabels = np.concatenate((TestParasitizedLabels, TestUninfectedLabels))\n",
    "    \n",
    "    s = np.arange(Cells.shape[0])\n",
    "    np.random.shuffle(s)\n",
    "    Cells = Cells[s]\n",
    "    Labels = Labels[s]\n",
    "    \n",
    "    sTest = np.arange(TestCells.shape[0])\n",
    "    np.random.shuffle(sTest)\n",
    "    TestCells = TestCells[sTest]\n",
    "    TestLabels = TestLabels[sTest]\n",
    "    \n",
    "    num_classes=len(np.unique(Labels))\n",
    "    len_data=len(Cells)\n",
    "    print(len_data, ' Data Points')\n",
    "    \n",
    "    (x_train,x_test)=Cells, TestCells\n",
    "    (y_train,y_test)=Labels, TestLabels\n",
    "    \n",
    "    # Since we're working on image data, we normalize data by divinding 255.\n",
    "    x_train = x_train.astype('float32')/255 \n",
    "    x_test = x_test.astype('float32')/255\n",
    "    train_len=len(x_train)\n",
    "    test_len=len(x_test)\n",
    "    \n",
    "    #Doing One hot encoding as classifier has multiple classes\n",
    "    y_train=keras.utils.to_categorical(y_train,num_classes)\n",
    "    y_test=keras.utils.to_categorical(y_test,num_classes)\n",
    "    \n",
    "    #creating sequential model\n",
    "    model=Sequential()\n",
    "    model.add(Conv2D(filters=16,kernel_size=2,padding=\"same\",activation=\"relu\",input_shape=(50,50,3)))\n",
    "    model.add(MaxPooling2D(pool_size=2))\n",
    "    model.add(Conv2D(filters=32,kernel_size=2,padding=\"same\",activation=\"relu\"))\n",
    "    model.add(MaxPooling2D(pool_size=2))\n",
    "    model.add(Conv2D(filters=64,kernel_size=2,padding=\"same\",activation=\"relu\"))\n",
    "    model.add(MaxPooling2D(pool_size=2))\n",
    "    model.add(Dropout(0.2))\n",
    "    model.add(Flatten())\n",
    "    model.add(Dense(500,activation=\"relu\"))\n",
    "    model.add(Dropout(0.2))\n",
    "    model.add(Dense(2,activation=\"softmax\"))#2 represent output layer neurons \n",
    "#     model.summary()\n",
    "\n",
    "    # compile the model with loss as categorical_crossentropy and using adam optimizer\n",
    "    opt = keras.optimizers.Adam(clipnorm=c)\n",
    "    model.compile(loss='categorical_crossentropy', optimizer=opt, metrics=['accuracy'])\n",
    "    \n",
    "    #Fit the model with min batch size as 50[can tune batch size to some factor of 2^power ] \n",
    "    model.fit(x_train, y_train, batch_size=100, epochs=5, verbose=1)\n",
    "    \n",
    "    scores = model.evaluate(x_test, y_test)\n",
    "    print(\"Loss: \", scores[0])        #Loss\n",
    "    print(\"Accuracy: \", scores[1])    #Accuracy\n",
    "\n",
    "    #Saving Model\n",
    "    model.save(\"./output.h5\")\n",
    "    return scores[1]"
   ]
  },
  {
   "cell_type": "code",
   "execution_count": 18,
   "metadata": {},
   "outputs": [
    {
     "name": "stdout",
     "output_type": "stream",
     "text": [
      "Reading Training Data\n",
      "Skipping file:  Thumbs.db 'NoneType' object has no attribute '__array_interface__'\n",
      "13779  Data Points Read!\n",
      "Skipping file:  Thumbs.db 'NoneType' object has no attribute '__array_interface__'\n",
      "13779  Data Points Read!\n",
      "Reading Testing Data\n",
      "2740  Data Points Read!\n",
      "2783  Data Points Read!\n",
      "27558  Data Points\n",
      "Epoch 1/5\n",
      "276/276 [==============================] - 36s 130ms/step - loss: 0.4040 - accuracy: 0.8072\n",
      "Epoch 2/5\n",
      "276/276 [==============================] - 34s 124ms/step - loss: 0.1619 - accuracy: 0.9472\n",
      "Epoch 3/5\n",
      "276/276 [==============================] - 37s 133ms/step - loss: 0.1401 - accuracy: 0.9540\n",
      "Epoch 4/5\n",
      "276/276 [==============================] - 39s 142ms/step - loss: 0.1316 - accuracy: 0.9566\n",
      "Epoch 5/5\n",
      "276/276 [==============================] - 34s 122ms/step - loss: 0.1209 - accuracy: 0.9588\n",
      "173/173 [==============================] - 2s 11ms/step - loss: 0.1112 - accuracy: 0.9613\n",
      "Loss:  0.11120065301656723\n",
      "Accuracy:  0.9612529277801514\n"
     ]
    },
    {
     "data": {
      "text/plain": [
       "0.9612529277801514"
      ]
     },
     "execution_count": 18,
     "metadata": {},
     "output_type": "execute_result"
    }
   ],
   "source": [
    "reg_train('./input/cell_images')"
   ]
  },
  {
   "cell_type": "code",
   "execution_count": 19,
   "metadata": {},
   "outputs": [
    {
     "name": "stdout",
     "output_type": "stream",
     "text": [
      "Reading Training Data\n",
      "Skipping file:  Thumbs.db 'NoneType' object has no attribute '__array_interface__'\n",
      "13779  Data Points Read!\n",
      "Skipping file:  Thumbs.db 'NoneType' object has no attribute '__array_interface__'\n",
      "13779  Data Points Read!\n",
      "Reading Testing Data\n",
      "2740  Data Points Read!\n",
      "2783  Data Points Read!\n",
      "27558  Data Points\n",
      "Epoch 1/5\n",
      "276/276 [==============================] - 45s 164ms/step - loss: 0.4544 - accuracy: 0.7755\n",
      "Epoch 2/5\n",
      "276/276 [==============================] - 36s 130ms/step - loss: 0.1809 - accuracy: 0.9392\n",
      "Epoch 3/5\n",
      "276/276 [==============================] - 46s 165ms/step - loss: 0.1482 - accuracy: 0.9516\n",
      "Epoch 4/5\n",
      "276/276 [==============================] - 40s 146ms/step - loss: 0.1366 - accuracy: 0.9554\n",
      "Epoch 5/5\n",
      "276/276 [==============================] - 47s 170ms/step - loss: 0.1267 - accuracy: 0.9588\n",
      "173/173 [==============================] - 3s 15ms/step - loss: 0.1120 - accuracy: 0.9620\n",
      "Loss:  0.11198366433382034\n",
      "Accuracy:  0.9619771838188171\n"
     ]
    },
    {
     "data": {
      "text/plain": [
       "0.9619771838188171"
      ]
     },
     "execution_count": 19,
     "metadata": {},
     "output_type": "execute_result"
    }
   ],
   "source": [
    "gc_train('./input/cell_images', 0.8)"
   ]
  },
  {
   "cell_type": "code",
   "execution_count": 20,
   "metadata": {},
   "outputs": [
    {
     "name": "stdout",
     "output_type": "stream",
     "text": [
      "Reading Training Data\n",
      "Skipping file:  Thumbs.db 'NoneType' object has no attribute '__array_interface__'\n",
      "13779  Data Points Read!\n",
      "Skipping file:  Thumbs.db 'NoneType' object has no attribute '__array_interface__'\n",
      "13779  Data Points Read!\n",
      "Reading Testing Data\n",
      "2740  Data Points Read!\n",
      "2783  Data Points Read!\n",
      "27558  Data Points\n",
      "Epoch 1/5\n",
      "276/276 [==============================] - 38s 138ms/step - loss: 0.3635 - accuracy: 0.8279\n",
      "Epoch 2/5\n",
      "276/276 [==============================] - 43s 155ms/step - loss: 0.1592 - accuracy: 0.9476\n",
      "Epoch 3/5\n",
      "276/276 [==============================] - 42s 154ms/step - loss: 0.1439 - accuracy: 0.9532\n",
      "Epoch 4/5\n",
      "276/276 [==============================] - 37s 134ms/step - loss: 0.1324 - accuracy: 0.9558\n",
      "Epoch 5/5\n",
      "276/276 [==============================] - 35s 126ms/step - loss: 0.1235 - accuracy: 0.9584\n",
      "173/173 [==============================] - 2s 14ms/step - loss: 0.1108 - accuracy: 0.9613\n",
      "Loss:  0.11083716154098511\n",
      "Accuracy:  0.9612529277801514\n"
     ]
    },
    {
     "data": {
      "text/plain": [
       "0.9612529277801514"
      ]
     },
     "execution_count": 20,
     "metadata": {},
     "output_type": "execute_result"
    }
   ],
   "source": [
    "gc_train('./input/cell_images', 0.6)"
   ]
  },
  {
   "cell_type": "code",
   "execution_count": 21,
   "metadata": {},
   "outputs": [
    {
     "name": "stdout",
     "output_type": "stream",
     "text": [
      "Reading Training Data\n",
      "Skipping file:  Thumbs.db 'NoneType' object has no attribute '__array_interface__'\n",
      "13779  Data Points Read!\n",
      "Skipping file:  Thumbs.db 'NoneType' object has no attribute '__array_interface__'\n",
      "13779  Data Points Read!\n",
      "Reading Testing Data\n",
      "2740  Data Points Read!\n",
      "2783  Data Points Read!\n",
      "27558  Data Points\n",
      "Epoch 1/5\n",
      "276/276 [==============================] - 46s 168ms/step - loss: 0.5269 - accuracy: 0.7233\n",
      "Epoch 2/5\n",
      "276/276 [==============================] - 35s 127ms/step - loss: 0.1905 - accuracy: 0.9334\n",
      "Epoch 3/5\n",
      "276/276 [==============================] - 41s 147ms/step - loss: 0.1522 - accuracy: 0.9513\n",
      "Epoch 4/5\n",
      "276/276 [==============================] - 33s 119ms/step - loss: 0.1397 - accuracy: 0.9541\n",
      "Epoch 5/5\n",
      "276/276 [==============================] - 44s 158ms/step - loss: 0.1307 - accuracy: 0.9561\n",
      "173/173 [==============================] - 6s 36ms/step - loss: 0.1294 - accuracy: 0.9547\n",
      "Loss:  0.1294463574886322\n",
      "Accuracy:  0.954734742641449\n"
     ]
    },
    {
     "data": {
      "text/plain": [
       "0.954734742641449"
      ]
     },
     "execution_count": 21,
     "metadata": {},
     "output_type": "execute_result"
    }
   ],
   "source": [
    "gc_train('./input/cell_images', 0.4)"
   ]
  },
  {
   "cell_type": "code",
   "execution_count": null,
   "metadata": {},
   "outputs": [],
   "source": []
  },
  {
   "cell_type": "code",
   "execution_count": null,
   "metadata": {},
   "outputs": [],
   "source": []
  }
 ],
 "metadata": {
  "kernelspec": {
   "display_name": "Python 3",
   "language": "python",
   "name": "python3"
  },
  "language_info": {
   "codemirror_mode": {
    "name": "ipython",
    "version": 3
   },
   "file_extension": ".py",
   "mimetype": "text/x-python",
   "name": "python",
   "nbconvert_exporter": "python",
   "pygments_lexer": "ipython3",
   "version": "3.8.5"
  }
 },
 "nbformat": 4,
 "nbformat_minor": 4
}
