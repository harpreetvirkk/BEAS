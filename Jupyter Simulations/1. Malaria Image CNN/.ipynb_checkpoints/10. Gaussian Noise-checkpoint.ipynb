{
 "cells": [
  {
   "cell_type": "code",
   "execution_count": 4,
   "metadata": {},
   "outputs": [],
   "source": [
    "from PIL import Image\n",
    "import numpy as np\n",
    "import os\n",
    "import cv2\n",
    "import keras\n",
    "from keras.utils import np_utils\n",
    "from keras.models import Sequential\n",
    "from keras.layers import Conv2D,MaxPooling2D,Dense,Flatten,Dropout, GaussianNoise\n",
    "import pandas as pd\n",
    "import sys\n",
    "%matplotlib inline\n",
    "import matplotlib.pyplot as plt\n",
    "import plotly.express as px"
   ]
  },
  {
   "cell_type": "code",
   "execution_count": 5,
   "metadata": {},
   "outputs": [],
   "source": [
    "def readData(filepath, label):\n",
    "    cells = []\n",
    "    labels = []\n",
    "    file = os.listdir(filepath)\n",
    "    for img in file:\n",
    "        try:\n",
    "            image = cv2.imread(filepath + img)\n",
    "            image_from_array = Image.fromarray(image, 'RGB')\n",
    "            size_image = image_from_array.resize((50, 50))\n",
    "            cells.append(np.array(size_image))\n",
    "            labels.append(label)\n",
    "        except AttributeError as e:\n",
    "            print('Skipping file: ', img, e)\n",
    "    print(len(cells), ' Data Points Read!')\n",
    "    return np.array(cells), np.array(labels)"
   ]
  },
  {
   "cell_type": "code",
   "execution_count": 6,
   "metadata": {},
   "outputs": [],
   "source": [
    "def reg_train(file):\n",
    "    \n",
    "    print('Reading Training Data')\n",
    "    \n",
    "    ParasitizedCells, ParasitizedLabels = readData(file + '/Parasitized/', 1)\n",
    "    UninfectedCells, UninfectedLabels  = readData(file + '/Uninfected/', 0)\n",
    "    Cells = np.concatenate((ParasitizedCells, UninfectedCells))\n",
    "    Labels = np.concatenate((ParasitizedLabels, UninfectedLabels))\n",
    "    \n",
    "    print('Reading Testing Data')\n",
    "    \n",
    "    TestParasitizedCells, TestParasitizedLabels = readData('./input/fed/test/Parasitized/', 1)\n",
    "    TestUninfectedCells, TestUninfectedLabels  = readData('./input/fed/test/Uninfected/', 0)\n",
    "    TestCells = np.concatenate((TestParasitizedCells, TestUninfectedCells))\n",
    "    TestLabels = np.concatenate((TestParasitizedLabels, TestUninfectedLabels))\n",
    "    \n",
    "    s = np.arange(Cells.shape[0])\n",
    "    np.random.shuffle(s)\n",
    "    Cells = Cells[s]\n",
    "    Labels = Labels[s]\n",
    "    \n",
    "    sTest = np.arange(TestCells.shape[0])\n",
    "    np.random.shuffle(sTest)\n",
    "    TestCells = TestCells[sTest]\n",
    "    TestLabels = TestLabels[sTest]\n",
    "    \n",
    "    num_classes=len(np.unique(Labels))\n",
    "    len_data=len(Cells)\n",
    "    print(len_data, ' Data Points')\n",
    "    \n",
    "    (x_train,x_test)=Cells, TestCells\n",
    "    (y_train,y_test)=Labels, TestLabels\n",
    "    \n",
    "    # Since we're working on image data, we normalize data by divinding 255.\n",
    "    x_train = x_train.astype('float32')/255 \n",
    "    x_test = x_test.astype('float32')/255\n",
    "    train_len=len(x_train)\n",
    "    test_len=len(x_test)\n",
    "    \n",
    "    #Doing One hot encoding as classifier has multiple classes\n",
    "    y_train=keras.utils.to_categorical(y_train,num_classes)\n",
    "    y_test=keras.utils.to_categorical(y_test,num_classes)\n",
    "    \n",
    "    #creating sequential model\n",
    "    model=Sequential()\n",
    "    model.add(Conv2D(filters=16,kernel_size=2,padding=\"same\",activation=\"relu\",input_shape=(50,50,3)))\n",
    "    model.add(MaxPooling2D(pool_size=2))\n",
    "    model.add(Conv2D(filters=32,kernel_size=2,padding=\"same\",activation=\"relu\"))\n",
    "    model.add(MaxPooling2D(pool_size=2))\n",
    "    model.add(Conv2D(filters=64,kernel_size=2,padding=\"same\",activation=\"relu\"))\n",
    "    model.add(MaxPooling2D(pool_size=2))\n",
    "    model.add(Dropout(0.2))\n",
    "    model.add(Flatten())\n",
    "    model.add(Dense(500,activation=\"relu\"))\n",
    "    model.add(Dropout(0.2))\n",
    "    model.add(Dense(2,activation=\"softmax\"))#2 represent output layer neurons \n",
    "#     model.summary()\n",
    "\n",
    "    # compile the model with loss as categorical_crossentropy and using adam optimizer\n",
    "    model.compile(loss='categorical_crossentropy', optimizer='adam', metrics=['accuracy'])\n",
    "    \n",
    "    #Fit the model with min batch size as 50[can tune batch size to some factor of 2^power ] \n",
    "    model.fit(x_train, y_train, batch_size=100, epochs=5, verbose=1)\n",
    "    \n",
    "    scores = model.evaluate(x_test, y_test)\n",
    "    print(\"Loss: \", scores[0])        #Loss\n",
    "    print(\"Accuracy: \", scores[1])    #Accuracy\n",
    "\n",
    "    #Saving Model\n",
    "    model.save(\"./output.h5\")\n",
    "    return scores[1]"
   ]
  },
  {
   "cell_type": "code",
   "execution_count": 17,
   "metadata": {},
   "outputs": [],
   "source": [
    "def gaussian_train(file, g):\n",
    "    \n",
    "    print('Reading Training Data')\n",
    "    \n",
    "    ParasitizedCells, ParasitizedLabels = readData(file + '/Parasitized/', 1)\n",
    "    UninfectedCells, UninfectedLabels  = readData(file + '/Uninfected/', 0)\n",
    "    Cells = np.concatenate((ParasitizedCells, UninfectedCells))\n",
    "    Labels = np.concatenate((ParasitizedLabels, UninfectedLabels))\n",
    "    \n",
    "    print('Reading Testing Data')\n",
    "    \n",
    "    TestParasitizedCells, TestParasitizedLabels = readData('./input/fed/test/Parasitized/', 1)\n",
    "    TestUninfectedCells, TestUninfectedLabels  = readData('./input/fed/test/Uninfected/', 0)\n",
    "    TestCells = np.concatenate((TestParasitizedCells, TestUninfectedCells))\n",
    "    TestLabels = np.concatenate((TestParasitizedLabels, TestUninfectedLabels))\n",
    "    \n",
    "    s = np.arange(Cells.shape[0])\n",
    "    np.random.shuffle(s)\n",
    "    Cells = Cells[s]\n",
    "    Labels = Labels[s]\n",
    "    \n",
    "    sTest = np.arange(TestCells.shape[0])\n",
    "    np.random.shuffle(sTest)\n",
    "    TestCells = TestCells[sTest]\n",
    "    TestLabels = TestLabels[sTest]\n",
    "    \n",
    "    num_classes=len(np.unique(Labels))\n",
    "    len_data=len(Cells)\n",
    "    print(len_data, ' Data Points')\n",
    "    \n",
    "    (x_train,x_test)=Cells, TestCells\n",
    "    (y_train,y_test)=Labels, TestLabels\n",
    "    \n",
    "    # Since we're working on image data, we normalize data by divinding 255.\n",
    "    x_train = x_train.astype('float32')/255 \n",
    "    x_test = x_test.astype('float32')/255\n",
    "    train_len=len(x_train)\n",
    "    test_len=len(x_test)\n",
    "    \n",
    "    #Doing One hot encoding as classifier has multiple classes\n",
    "    y_train=keras.utils.to_categorical(y_train,num_classes)\n",
    "    y_test=keras.utils.to_categorical(y_test,num_classes)\n",
    "    \n",
    "    #creating sequential model\n",
    "    model=Sequential()\n",
    "    model.add(Conv2D(filters=16,kernel_size=2,padding=\"same\",activation=\"relu\",input_shape=(50,50,3)))\n",
    "    model.add(GaussianNoise(g))\n",
    "    model.add(MaxPooling2D(pool_size=2))\n",
    "    model.add(Conv2D(filters=32,kernel_size=2,padding=\"same\",activation=\"relu\"))\n",
    "    model.add(MaxPooling2D(pool_size=2))\n",
    "    model.add(Conv2D(filters=64,kernel_size=2,padding=\"same\",activation=\"relu\"))\n",
    "    model.add(MaxPooling2D(pool_size=2))\n",
    "    model.add(Dropout(0.2))\n",
    "    model.add(Flatten())\n",
    "    model.add(Dense(500,activation=\"relu\"))\n",
    "    model.add(Dropout(0.2))\n",
    "    model.add(Dense(2,activation=\"softmax\"))#2 represent output layer neurons \n",
    "#     model.summary()\n",
    "\n",
    "    # compile the model with loss as categorical_crossentropy and using adam optimizer\n",
    "    model.compile(loss='categorical_crossentropy', optimizer='adam', metrics=['accuracy'])\n",
    "    \n",
    "    #Fit the model with min batch size as 50[can tune batch size to some factor of 2^power ] \n",
    "    model.fit(x_train, y_train, batch_size=100, epochs=5, verbose=1)\n",
    "    \n",
    "    scores = model.evaluate(x_test, y_test)\n",
    "    print(\"Loss: \", scores[0])        #Loss\n",
    "    print(\"Accuracy: \", scores[1])    #Accuracy\n",
    "\n",
    "    #Saving Model\n",
    "    model.save(\"./output.h5\")\n",
    "    return scores[1]"
   ]
  },
  {
   "cell_type": "code",
   "execution_count": 15,
   "metadata": {},
   "outputs": [
    {
     "name": "stdout",
     "output_type": "stream",
     "text": [
      "Reading Training Data\n",
      "Skipping file:  Thumbs.db 'NoneType' object has no attribute '__array_interface__'\n",
      "13779  Data Points Read!\n",
      "Skipping file:  Thumbs.db 'NoneType' object has no attribute '__array_interface__'\n",
      "13779  Data Points Read!\n",
      "Reading Testing Data\n",
      "2740  Data Points Read!\n",
      "2783  Data Points Read!\n",
      "27558  Data Points\n",
      "Epoch 1/5\n",
      "276/276 [==============================] - 29s 105ms/step - loss: 0.4645 - accuracy: 0.7678\n",
      "Epoch 2/5\n",
      "276/276 [==============================] - 29s 104ms/step - loss: 0.1757 - accuracy: 0.9407\n",
      "Epoch 3/5\n",
      "276/276 [==============================] - 29s 103ms/step - loss: 0.1457 - accuracy: 0.9523\n",
      "Epoch 4/5\n",
      "276/276 [==============================] - 30s 107ms/step - loss: 0.1328 - accuracy: 0.9573\n",
      "Epoch 5/5\n",
      "276/276 [==============================] - 29s 107ms/step - loss: 0.1254 - accuracy: 0.9589\n",
      "173/173 [==============================] - 2s 10ms/step - loss: 0.1181 - accuracy: 0.9605\n",
      "Loss:  0.11814074218273163\n",
      "Accuracy:  0.9605286717414856\n"
     ]
    },
    {
     "data": {
      "text/plain": [
       "0.9605286717414856"
      ]
     },
     "execution_count": 15,
     "metadata": {},
     "output_type": "execute_result"
    }
   ],
   "source": [
    "reg_train('./input/cell_images')"
   ]
  },
  {
   "cell_type": "code",
   "execution_count": 19,
   "metadata": {},
   "outputs": [
    {
     "name": "stdout",
     "output_type": "stream",
     "text": [
      "Reading Training Data\n",
      "Skipping file:  Thumbs.db 'NoneType' object has no attribute '__array_interface__'\n",
      "13779  Data Points Read!\n",
      "Skipping file:  Thumbs.db 'NoneType' object has no attribute '__array_interface__'\n",
      "13779  Data Points Read!\n",
      "Reading Testing Data\n",
      "2740  Data Points Read!\n",
      "2783  Data Points Read!\n",
      "27558  Data Points\n",
      "Epoch 1/5\n",
      "276/276 [==============================] - 36s 129ms/step - loss: 0.6443 - accuracy: 0.6182\n",
      "Epoch 2/5\n",
      "276/276 [==============================] - 36s 129ms/step - loss: 0.4414 - accuracy: 0.7907\n",
      "Epoch 3/5\n",
      "276/276 [==============================] - 35s 125ms/step - loss: 0.1872 - accuracy: 0.9352\n",
      "Epoch 4/5\n",
      "276/276 [==============================] - 35s 125ms/step - loss: 0.1584 - accuracy: 0.9473\n",
      "Epoch 5/5\n",
      "276/276 [==============================] - 36s 129ms/step - loss: 0.1460 - accuracy: 0.9529\n",
      "173/173 [==============================] - 2s 10ms/step - loss: 0.1300 - accuracy: 0.9575\n",
      "Loss:  0.13004770874977112\n",
      "Accuracy:  0.9574506878852844\n"
     ]
    },
    {
     "data": {
      "text/plain": [
       "0.9574506878852844"
      ]
     },
     "execution_count": 19,
     "metadata": {},
     "output_type": "execute_result"
    }
   ],
   "source": [
    "gaussian_train('./input/cell_images', 0.05)"
   ]
  },
  {
   "cell_type": "code",
   "execution_count": 18,
   "metadata": {},
   "outputs": [
    {
     "name": "stdout",
     "output_type": "stream",
     "text": [
      "Reading Training Data\n",
      "Skipping file:  Thumbs.db 'NoneType' object has no attribute '__array_interface__'\n",
      "13779  Data Points Read!\n",
      "Skipping file:  Thumbs.db 'NoneType' object has no attribute '__array_interface__'\n",
      "13779  Data Points Read!\n",
      "Reading Testing Data\n",
      "2740  Data Points Read!\n",
      "2783  Data Points Read!\n",
      "27558  Data Points\n",
      "Epoch 1/5\n",
      "276/276 [==============================] - 34s 124ms/step - loss: 0.6649 - accuracy: 0.6088\n",
      "Epoch 2/5\n",
      "276/276 [==============================] - 34s 124ms/step - loss: 0.5800 - accuracy: 0.6932\n",
      "Epoch 3/5\n",
      "276/276 [==============================] - 34s 125ms/step - loss: 0.3417 - accuracy: 0.8512\n",
      "Epoch 4/5\n",
      "276/276 [==============================] - 35s 126ms/step - loss: 0.1906 - accuracy: 0.9369\n",
      "Epoch 5/5\n",
      "276/276 [==============================] - 35s 125ms/step - loss: 0.1677 - accuracy: 0.9470\n",
      "173/173 [==============================] - 2s 10ms/step - loss: 0.1538 - accuracy: 0.9535\n",
      "Loss:  0.15379244089126587\n",
      "Accuracy:  0.9534673094749451\n"
     ]
    },
    {
     "data": {
      "text/plain": [
       "0.9534673094749451"
      ]
     },
     "execution_count": 18,
     "metadata": {},
     "output_type": "execute_result"
    }
   ],
   "source": [
    "gaussian_train('./input/cell_images', 0.1)"
   ]
  },
  {
   "cell_type": "code",
   "execution_count": 16,
   "metadata": {},
   "outputs": [
    {
     "name": "stdout",
     "output_type": "stream",
     "text": [
      "Reading Training Data\n",
      "Skipping file:  Thumbs.db 'NoneType' object has no attribute '__array_interface__'\n",
      "13779  Data Points Read!\n",
      "Skipping file:  Thumbs.db 'NoneType' object has no attribute '__array_interface__'\n",
      "13779  Data Points Read!\n",
      "Reading Testing Data\n",
      "2740  Data Points Read!\n",
      "2783  Data Points Read!\n",
      "27558  Data Points\n",
      "Epoch 1/5\n",
      "276/276 [==============================] - 36s 132ms/step - loss: 0.6601 - accuracy: 0.6088\n",
      "Epoch 2/5\n",
      "276/276 [==============================] - 34s 124ms/step - loss: 0.6100 - accuracy: 0.6711\n",
      "Epoch 3/5\n",
      "276/276 [==============================] - 35s 125ms/step - loss: 0.5466 - accuracy: 0.7257\n",
      "Epoch 4/5\n",
      "276/276 [==============================] - 36s 129ms/step - loss: 0.3871 - accuracy: 0.8359\n",
      "Epoch 5/5\n",
      "276/276 [==============================] - 34s 124ms/step - loss: 0.2645 - accuracy: 0.9012\n",
      "173/173 [==============================] - 2s 9ms/step - loss: 0.2753 - accuracy: 0.9035\n",
      "Loss:  0.2752937376499176\n",
      "Accuracy:  0.9034944772720337\n"
     ]
    },
    {
     "data": {
      "text/plain": [
       "0.9034944772720337"
      ]
     },
     "execution_count": 16,
     "metadata": {},
     "output_type": "execute_result"
    }
   ],
   "source": [
    "gaussian_train('./input/cell_images', 0.2)"
   ]
  },
  {
   "cell_type": "code",
   "execution_count": null,
   "metadata": {},
   "outputs": [],
   "source": []
  },
  {
   "cell_type": "code",
   "execution_count": null,
   "metadata": {},
   "outputs": [],
   "source": []
  },
  {
   "cell_type": "code",
   "execution_count": null,
   "metadata": {},
   "outputs": [],
   "source": []
  },
  {
   "cell_type": "code",
   "execution_count": null,
   "metadata": {},
   "outputs": [],
   "source": []
  }
 ],
 "metadata": {
  "kernelspec": {
   "display_name": "Python 3",
   "language": "python",
   "name": "python3"
  },
  "language_info": {
   "codemirror_mode": {
    "name": "ipython",
    "version": 3
   },
   "file_extension": ".py",
   "mimetype": "text/x-python",
   "name": "python",
   "nbconvert_exporter": "python",
   "pygments_lexer": "ipython3",
   "version": "3.8.5"
  }
 },
 "nbformat": 4,
 "nbformat_minor": 4
}
